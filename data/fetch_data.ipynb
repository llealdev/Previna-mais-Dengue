{
 "cells": [
  {
   "cell_type": "code",
   "execution_count": 7,
   "metadata": {},
   "outputs": [],
   "source": [
    "from pysus.ftp.databases.sinan import SINAN\n",
    "import pandas as pd\n",
    "import warnings\n",
    "warnings.filterwarnings('ignore')"
   ]
  },
  {
   "cell_type": "code",
   "execution_count": 3,
   "metadata": {},
   "outputs": [
    {
     "data": {
      "text/plain": [
       "{'ACBI': 'Acidente de trabalho com material biológico',\n",
       " 'ACGR': 'Acidente de trabalho',\n",
       " 'ANIM': 'Acidente por Animais Peçonhentos',\n",
       " 'ANTR': 'Atendimento Antirrabico',\n",
       " 'BOTU': 'Botulismo',\n",
       " 'CANC': 'Cancêr relacionado ao trabalho',\n",
       " 'CHAG': 'Doença de Chagas Aguda',\n",
       " 'CHIK': 'Febre de Chikungunya',\n",
       " 'COLE': 'Cólera',\n",
       " 'COQU': 'Coqueluche',\n",
       " 'DENG': 'Dengue',\n",
       " 'DERM': 'Dermatoses ocupacionais',\n",
       " 'DIFT': 'Difteria',\n",
       " 'ESQU': 'Esquistossomose',\n",
       " 'EXAN': 'Doença exantemáticas',\n",
       " 'FMAC': 'Febre Maculosa',\n",
       " 'FTIF': 'Febre Tifóide',\n",
       " 'HANS': 'Hanseníase',\n",
       " 'HANT': 'Hantavirose',\n",
       " 'HEPA': 'Hepatites Virais',\n",
       " 'IEXO': 'Intoxicação Exógena',\n",
       " 'INFL': 'Influenza Pandêmica',\n",
       " 'LEIV': 'Leishmaniose Visceral',\n",
       " 'LEPT': 'Leptospirose',\n",
       " 'LERD': 'LER/Dort',\n",
       " 'LTAN': 'Leishmaniose Tegumentar Americana',\n",
       " 'MALA': 'Malária',\n",
       " 'MENI': 'Meningite',\n",
       " 'MENT': 'Transtornos mentais relacionados ao trabalho',\n",
       " 'NTRA': 'Notificação de Tracoma',\n",
       " 'PAIR': 'Perda auditiva por ruído relacionado ao trabalho',\n",
       " 'PEST': 'Peste',\n",
       " 'PFAN': 'Paralisia Flácida Aguda',\n",
       " 'PNEU': 'Pneumoconioses realacionadas ao trabalho',\n",
       " 'RAIV': 'Raiva',\n",
       " 'SDTA': 'Surto Doenças Transmitidas por Alimentos',\n",
       " 'SIFA': 'Sífilis Adquirida',\n",
       " 'SIFC': 'Sífilis Congênita',\n",
       " 'SIFG': 'Sífilis em Gestante',\n",
       " 'SRC': 'Síndrome da Rubéola Congênia',\n",
       " 'TETA': 'Tétano Acidental',\n",
       " 'TETN': 'Tétano Neonatal',\n",
       " 'TOXC': 'Toxoplasmose Congênita',\n",
       " 'TOXG': 'Toxoplasmose Gestacional',\n",
       " 'TRAC': 'Inquérito de Tracoma',\n",
       " 'TUBE': 'Tuberculose',\n",
       " 'VARC': 'Varicela',\n",
       " 'VIOL': 'Violência doméstica, sexual e/ou outras violências',\n",
       " 'ZIKA': 'Zika Vírus'}"
      ]
     },
     "execution_count": 3,
     "metadata": {},
     "output_type": "execute_result"
    }
   ],
   "source": [
    "sinan.diseases"
   ]
  },
  {
   "cell_type": "code",
   "execution_count": 4,
   "metadata": {},
   "outputs": [
    {
     "data": {
      "text/plain": [
       "[DENGBR20.dbc, DENGBR21.dbc, DENGBR22.dbc, DENGBR23.dbc, DENGBR24.dbc]"
      ]
     },
     "execution_count": 4,
     "metadata": {},
     "output_type": "execute_result"
    }
   ],
   "source": [
    "sinan.get_files(dis_code=['DENG'], year=[2020,2021,2022,2023,2024])"
   ]
  },
  {
   "cell_type": "code",
   "execution_count": 5,
   "metadata": {},
   "outputs": [
    {
     "data": {
      "text/plain": [
       "[DENGBR20.dbc, DENGBR21.dbc, DENGBR22.dbc, DENGBR23.dbc, DENGBR24.dbc]"
      ]
     },
     "execution_count": 5,
     "metadata": {},
     "output_type": "execute_result"
    }
   ],
   "source": [
    "files = sinan.get_files(dis_code=['DENG'], year=[2020,2021,2022,2023,2024])\n",
    "files"
   ]
  },
  {
   "cell_type": "code",
   "execution_count": 6,
   "metadata": {},
   "outputs": [
    {
     "name": "stdout",
     "output_type": "stream",
     "text": [
      "{'name': 'DENGBR20.dbc', 'disease': 'Dengue', 'year': 2020, 'size': '73.8 MB', 'last_update': '2022-02-23 12:06PM'}\n",
      "{'name': 'DENGBR21.dbc', 'disease': 'Dengue', 'year': 2021, 'size': '42.9 MB', 'last_update': '2023-05-11 11:10AM'}\n",
      "{'name': 'DENGBR22.dbc', 'disease': 'Dengue', 'year': 2022, 'size': '62.2 MB', 'last_update': '2023-08-21 03:20PM'}\n",
      "{'name': 'DENGBR23.dbc', 'disease': 'Dengue', 'year': 2023, 'size': '57.6 MB', 'last_update': '2024-06-05 02:49PM'}\n",
      "{'name': 'DENGBR24.dbc', 'disease': 'Dengue', 'year': 2024, 'size': '187.2 MB', 'last_update': '2025-01-07 11:20AM'}\n"
     ]
    }
   ],
   "source": [
    "for file in files:\n",
    "    print(sinan.describe(file))"
   ]
  },
  {
   "cell_type": "code",
   "execution_count": 8,
   "metadata": {},
   "outputs": [
    {
     "name": "stderr",
     "output_type": "stream",
     "text": [
      "DENGBR23.parquet: : 187MB [01:21, 2.29MB/s]                           \n"
     ]
    },
    {
     "data": {
      "text/plain": [
       "[/home/matheus-leal/pysus/DENGBR20.parquet,\n",
       " /home/matheus-leal/pysus/DENGBR21.parquet,\n",
       " /home/matheus-leal/pysus/DENGBR22.parquet,\n",
       " /home/matheus-leal/pysus/DENGBR23.parquet,\n",
       " /home/matheus-leal/pysus/DENGBR24.parquet]"
      ]
     },
     "execution_count": 8,
     "metadata": {},
     "output_type": "execute_result"
    }
   ],
   "source": [
    "parquets = sinan.download(files)\n",
    "parquets"
   ]
  },
  {
   "cell_type": "code",
   "execution_count": 9,
   "metadata": {},
   "outputs": [
    {
     "name": "stdout",
     "output_type": "stream",
     "text": [
      "<class 'pandas.core.frame.DataFrame'>\n",
      "RangeIndex: 6467854 entries, 0 to 6467853\n",
      "Columns: 121 entries, TP_NOT to MIGRADO_W\n",
      "dtypes: object(2), string(119)\n",
      "memory usage: 5.8+ GB\n"
     ]
    }
   ],
   "source": [
    "df = parquets[4].to_dataframe()\n",
    "df.info()"
   ]
  },
  {
   "cell_type": "code",
   "execution_count": 10,
   "metadata": {},
   "outputs": [],
   "source": [
    "arquivos_parquet = [\n",
    "    \"/home/matheus-leal/pysus/DENGBR20.parquet\",\n",
    "    \"/home/matheus-leal/pysus/DENGBR21.parquet\",\n",
    "    \"/home/matheus-leal/pysus/DENGBR22.parquet\",\n",
    "    \"/home/matheus-leal/pysus/DENGBR23.parquet\",\n",
    "    \"/home/matheus-leal/pysus/DENGBR24.parquet\",\n",
    "]\n"
   ]
  },
  {
   "cell_type": "code",
   "execution_count": 22,
   "metadata": {},
   "outputs": [
    {
     "name": "stdout",
     "output_type": "stream",
     "text": [
      "Arquivo CSV criado com sucesso:/home/matheus-leal/Documentos/PYTHON-PROJECTS/previna-mais-Dengue/data/dengue_bahia_2020_2024.csv\n"
     ]
    }
   ],
   "source": [
    "dfs_filtrados = []\n",
    "\n",
    "for arquivo in arquivos_parquet:\n",
    "    df = pd.read_parquet(arquivo)\n",
    "\n",
    "    df_ba = df[df[\"SG_UF\"] == \"29\"]\n",
    "\n",
    "    dfs_filtrados.append(df_ba)\n",
    "\n",
    "df_concatenado = pd.concat(dfs_filtrados, axis=0)\n",
    "\n",
    "caminho_csv = \"/home/matheus-leal/Documentos/PYTHON-PROJECTS/previna-mais-Dengue/data/dengue_bahia_2020_2024.csv\"\n",
    "\n",
    "df_concatenado.to_csv(caminho_csv, index=False, sep=\";\")\n",
    "\n",
    "print(f\"Arquivo CSV criado com sucesso:{caminho_csv}\")"
   ]
  },
  {
   "cell_type": "code",
   "execution_count": 23,
   "metadata": {},
   "outputs": [
    {
     "name": "stdout",
     "output_type": "stream",
     "text": [
      "(461012, 122)\n",
      "       TP_NOT ID_AGRAVO DT_NOTIFIC SEM_NOT NU_ANO SG_UF_NOT ID_MUNICIP  \\\n",
      "270000      2     A90     20200624           2020        29     290880   \n",
      "270001      2     A90     20200701           2020        29     293330   \n",
      "270002      2     A90     20200701           2020        29     293330   \n",
      "270003      2     A90     20200702           2020        29     293330   \n",
      "270004      2     A90     20200824           2020        29     291080   \n",
      "\n",
      "       ID_REGIONA ID_UNIDADE DT_SIN_PRI  ... PLAQ_MENOR CON_FHD COMPLICA  \\\n",
      "270000   1398        6867944   20200624  ...                               \n",
      "270001   1398        2488973   20200630  ...                               \n",
      "270002   1398        2488973   20200629  ...                               \n",
      "270003   1398        2487764   20200630  ...                               \n",
      "270004   1381        2505606   20200817  ...                               \n",
      "\n",
      "       TP_SISTEMA NDUPLIC_N CS_FLXRET FLXRECEBI ANO_NASC DT_DIGITA MIGRADO_W  \n",
      "270000          2                   1                NaN       NaN       NaN  \n",
      "270001          2                   0                NaN       NaN       NaN  \n",
      "270002          2                   1                NaN       NaN       NaN  \n",
      "270003          2                   0                NaN       NaN       NaN  \n",
      "270004          2                   1                NaN       NaN       NaN  \n",
      "\n",
      "[5 rows x 122 columns]\n"
     ]
    }
   ],
   "source": [
    "print(df_concatenado.shape) \n",
    "print(df_concatenado.head()) "
   ]
  }
 ],
 "metadata": {
  "kernelspec": {
   "display_name": ".venv",
   "language": "python",
   "name": "python3"
  },
  "language_info": {
   "codemirror_mode": {
    "name": "ipython",
    "version": 3
   },
   "file_extension": ".py",
   "mimetype": "text/x-python",
   "name": "python",
   "nbconvert_exporter": "python",
   "pygments_lexer": "ipython3",
   "version": "3.12.3"
  }
 },
 "nbformat": 4,
 "nbformat_minor": 2
}
