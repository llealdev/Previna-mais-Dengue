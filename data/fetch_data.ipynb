{
 "cells": [
  {
   "cell_type": "code",
   "execution_count": 2,
   "metadata": {},
   "outputs": [],
   "source": [
    "from pysus.ftp.databases.sinan import SINAN\n",
    "import pandas as pd\n",
    "import warnings\n",
    "warnings.filterwarnings('ignore')"
   ]
  },
  {
   "cell_type": "code",
   "execution_count": 3,
   "metadata": {},
   "outputs": [
    {
     "data": {
      "text/plain": [
       "{'ACBI': 'Acidente de trabalho com material biológico',\n",
       " 'ACGR': 'Acidente de trabalho',\n",
       " 'ANIM': 'Acidente por Animais Peçonhentos',\n",
       " 'ANTR': 'Atendimento Antirrabico',\n",
       " 'BOTU': 'Botulismo',\n",
       " 'CANC': 'Cancêr relacionado ao trabalho',\n",
       " 'CHAG': 'Doença de Chagas Aguda',\n",
       " 'CHIK': 'Febre de Chikungunya',\n",
       " 'COLE': 'Cólera',\n",
       " 'COQU': 'Coqueluche',\n",
       " 'DENG': 'Dengue',\n",
       " 'DERM': 'Dermatoses ocupacionais',\n",
       " 'DIFT': 'Difteria',\n",
       " 'ESQU': 'Esquistossomose',\n",
       " 'EXAN': 'Doença exantemáticas',\n",
       " 'FMAC': 'Febre Maculosa',\n",
       " 'FTIF': 'Febre Tifóide',\n",
       " 'HANS': 'Hanseníase',\n",
       " 'HANT': 'Hantavirose',\n",
       " 'HEPA': 'Hepatites Virais',\n",
       " 'IEXO': 'Intoxicação Exógena',\n",
       " 'INFL': 'Influenza Pandêmica',\n",
       " 'LEIV': 'Leishmaniose Visceral',\n",
       " 'LEPT': 'Leptospirose',\n",
       " 'LERD': 'LER/Dort',\n",
       " 'LTAN': 'Leishmaniose Tegumentar Americana',\n",
       " 'MALA': 'Malária',\n",
       " 'MENI': 'Meningite',\n",
       " 'MENT': 'Transtornos mentais relacionados ao trabalho',\n",
       " 'NTRA': 'Notificação de Tracoma',\n",
       " 'PAIR': 'Perda auditiva por ruído relacionado ao trabalho',\n",
       " 'PEST': 'Peste',\n",
       " 'PFAN': 'Paralisia Flácida Aguda',\n",
       " 'PNEU': 'Pneumoconioses realacionadas ao trabalho',\n",
       " 'RAIV': 'Raiva',\n",
       " 'SDTA': 'Surto Doenças Transmitidas por Alimentos',\n",
       " 'SIFA': 'Sífilis Adquirida',\n",
       " 'SIFC': 'Sífilis Congênita',\n",
       " 'SIFG': 'Sífilis em Gestante',\n",
       " 'SRC': 'Síndrome da Rubéola Congênia',\n",
       " 'TETA': 'Tétano Acidental',\n",
       " 'TETN': 'Tétano Neonatal',\n",
       " 'TOXC': 'Toxoplasmose Congênita',\n",
       " 'TOXG': 'Toxoplasmose Gestacional',\n",
       " 'TRAC': 'Inquérito de Tracoma',\n",
       " 'TUBE': 'Tuberculose',\n",
       " 'VARC': 'Varicela',\n",
       " 'VIOL': 'Violência doméstica, sexual e/ou outras violências',\n",
       " 'ZIKA': 'Zika Vírus'}"
      ]
     },
     "execution_count": 3,
     "metadata": {},
     "output_type": "execute_result"
    }
   ],
   "source": [
    "sinan.diseases"
   ]
  },
  {
   "cell_type": "code",
   "execution_count": 4,
   "metadata": {},
   "outputs": [
    {
     "data": {
      "text/plain": [
       "[DENGBR20.dbc, DENGBR21.dbc, DENGBR22.dbc, DENGBR23.dbc, DENGBR24.dbc]"
      ]
     },
     "execution_count": 4,
     "metadata": {},
     "output_type": "execute_result"
    }
   ],
   "source": [
    "sinan.get_files(dis_code=['DENG'], year=[2020,2021,2022,2023,2024])"
   ]
  },
  {
   "cell_type": "code",
   "execution_count": 5,
   "metadata": {},
   "outputs": [
    {
     "data": {
      "text/plain": [
       "[DENGBR20.dbc, DENGBR21.dbc, DENGBR22.dbc, DENGBR23.dbc, DENGBR24.dbc]"
      ]
     },
     "execution_count": 5,
     "metadata": {},
     "output_type": "execute_result"
    }
   ],
   "source": [
    "files = sinan.get_files(dis_code=['DENG'], year=[2020,2021,2022,2023,2024])\n",
    "files"
   ]
  },
  {
   "cell_type": "code",
   "execution_count": 6,
   "metadata": {},
   "outputs": [
    {
     "name": "stdout",
     "output_type": "stream",
     "text": [
      "{'name': 'DENGBR20.dbc', 'disease': 'Dengue', 'year': 2020, 'size': '73.8 MB', 'last_update': '2022-02-23 12:06PM'}\n",
      "{'name': 'DENGBR21.dbc', 'disease': 'Dengue', 'year': 2021, 'size': '42.9 MB', 'last_update': '2023-05-11 11:10AM'}\n",
      "{'name': 'DENGBR22.dbc', 'disease': 'Dengue', 'year': 2022, 'size': '62.2 MB', 'last_update': '2023-08-21 03:20PM'}\n",
      "{'name': 'DENGBR23.dbc', 'disease': 'Dengue', 'year': 2023, 'size': '57.6 MB', 'last_update': '2024-06-05 02:49PM'}\n",
      "{'name': 'DENGBR24.dbc', 'disease': 'Dengue', 'year': 2024, 'size': '187.2 MB', 'last_update': '2025-01-07 11:20AM'}\n"
     ]
    }
   ],
   "source": [
    "for file in files:\n",
    "    print(sinan.describe(file))"
   ]
  },
  {
   "cell_type": "code",
   "execution_count": 8,
   "metadata": {},
   "outputs": [
    {
     "name": "stderr",
     "output_type": "stream",
     "text": [
      "DENGBR23.parquet: : 187MB [01:21, 2.29MB/s]                           \n"
     ]
    },
    {
     "data": {
      "text/plain": [
       "[/home/matheus-leal/pysus/DENGBR20.parquet,\n",
       " /home/matheus-leal/pysus/DENGBR21.parquet,\n",
       " /home/matheus-leal/pysus/DENGBR22.parquet,\n",
       " /home/matheus-leal/pysus/DENGBR23.parquet,\n",
       " /home/matheus-leal/pysus/DENGBR24.parquet]"
      ]
     },
     "execution_count": 8,
     "metadata": {},
     "output_type": "execute_result"
    }
   ],
   "source": [
    "parquets = sinan.download(files)\n",
    "parquets"
   ]
  },
  {
   "cell_type": "code",
   "execution_count": 9,
   "metadata": {},
   "outputs": [
    {
     "name": "stdout",
     "output_type": "stream",
     "text": [
      "<class 'pandas.core.frame.DataFrame'>\n",
      "RangeIndex: 6467854 entries, 0 to 6467853\n",
      "Columns: 121 entries, TP_NOT to MIGRADO_W\n",
      "dtypes: object(2), string(119)\n",
      "memory usage: 5.8+ GB\n"
     ]
    }
   ],
   "source": [
    "df = parquets[4].to_dataframe()\n",
    "df.info()"
   ]
  },
  {
   "cell_type": "code",
   "execution_count": 10,
   "metadata": {},
   "outputs": [],
   "source": [
    "arquivos_parquet = [\n",
    "    \"/home/matheus-leal/pysus/DENGBR20.parquet\",\n",
    "    \"/home/matheus-leal/pysus/DENGBR21.parquet\",\n",
    "    \"/home/matheus-leal/pysus/DENGBR22.parquet\",\n",
    "    \"/home/matheus-leal/pysus/DENGBR23.parquet\",\n",
    "    \"/home/matheus-leal/pysus/DENGBR24.parquet\",\n",
    "]\n"
   ]
  },
  {
   "cell_type": "code",
   "execution_count": 22,
   "metadata": {},
   "outputs": [
    {
     "name": "stdout",
     "output_type": "stream",
     "text": [
      "Arquivo CSV criado com sucesso:/home/matheus-leal/Documentos/PYTHON-PROJECTS/previna-mais-Dengue/data/dengue_bahia_2020_2024.csv\n"
     ]
    }
   ],
   "source": [
    "dfs_filtrados = []\n",
    "\n",
    "for arquivo in arquivos_parquet:\n",
    "    df = pd.read_parquet(arquivo)\n",
    "\n",
    "    df_ba = df[df[\"SG_UF\"] == \"29\"]\n",
    "\n",
    "    dfs_filtrados.append(df_ba)\n",
    "\n",
    "df_concatenado = pd.concat(dfs_filtrados, axis=0)\n",
    "\n",
    "caminho_csv = \"/home/matheus-leal/Documentos/PYTHON-PROJECTS/previna-mais-Dengue/data/dengue_bahia_2020_2024.csv\"\n",
    "\n",
    "df_concatenado.to_csv(caminho_csv, index=False, sep=\";\")\n",
    "\n",
    "print(f\"Arquivo CSV criado com sucesso:{caminho_csv}\")"
   ]
  },
  {
   "cell_type": "code",
   "execution_count": 23,
   "metadata": {},
   "outputs": [
    {
     "name": "stdout",
     "output_type": "stream",
     "text": [
      "(461012, 122)\n",
      "       TP_NOT ID_AGRAVO DT_NOTIFIC SEM_NOT NU_ANO SG_UF_NOT ID_MUNICIP  \\\n",
      "270000      2     A90     20200624           2020        29     290880   \n",
      "270001      2     A90     20200701           2020        29     293330   \n",
      "270002      2     A90     20200701           2020        29     293330   \n",
      "270003      2     A90     20200702           2020        29     293330   \n",
      "270004      2     A90     20200824           2020        29     291080   \n",
      "\n",
      "       ID_REGIONA ID_UNIDADE DT_SIN_PRI  ... PLAQ_MENOR CON_FHD COMPLICA  \\\n",
      "270000   1398        6867944   20200624  ...                               \n",
      "270001   1398        2488973   20200630  ...                               \n",
      "270002   1398        2488973   20200629  ...                               \n",
      "270003   1398        2487764   20200630  ...                               \n",
      "270004   1381        2505606   20200817  ...                               \n",
      "\n",
      "       TP_SISTEMA NDUPLIC_N CS_FLXRET FLXRECEBI ANO_NASC DT_DIGITA MIGRADO_W  \n",
      "270000          2                   1                NaN       NaN       NaN  \n",
      "270001          2                   0                NaN       NaN       NaN  \n",
      "270002          2                   1                NaN       NaN       NaN  \n",
      "270003          2                   0                NaN       NaN       NaN  \n",
      "270004          2                   1                NaN       NaN       NaN  \n",
      "\n",
      "[5 rows x 122 columns]\n"
     ]
    }
   ],
   "source": [
    "print(df_concatenado.shape) \n",
    "print(df_concatenado.head()) "
   ]
  },
  {
   "cell_type": "code",
   "execution_count": 8,
   "metadata": {},
   "outputs": [
    {
     "data": {
      "text/html": [
       "<div>\n",
       "<style scoped>\n",
       "    .dataframe tbody tr th:only-of-type {\n",
       "        vertical-align: middle;\n",
       "    }\n",
       "\n",
       "    .dataframe tbody tr th {\n",
       "        vertical-align: top;\n",
       "    }\n",
       "\n",
       "    .dataframe thead th {\n",
       "        text-align: right;\n",
       "    }\n",
       "</style>\n",
       "<table border=\"1\" class=\"dataframe\">\n",
       "  <thead>\n",
       "    <tr style=\"text-align: right;\">\n",
       "      <th></th>\n",
       "      <th>Nome do campo</th>\n",
       "      <th>Campo</th>\n",
       "      <th>Tipo</th>\n",
       "      <th>Categoria</th>\n",
       "      <th>Descrição</th>\n",
       "      <th>Características</th>\n",
       "      <th>DBF</th>\n",
       "    </tr>\n",
       "  </thead>\n",
       "  <tbody>\n",
       "    <tr>\n",
       "      <th>0</th>\n",
       "      <td>2-Agravo/doença</td>\n",
       "      <td>NaN</td>\n",
       "      <td>VARCHAR(1)</td>\n",
       "      <td>1-Dengue\\n2-Chikungunya</td>\n",
       "      <td>Especifica a suspeição do agravo.</td>\n",
       "      <td>Campo Obrigatório\\nPreenchendo o código,\\na de...</td>\n",
       "      <td>ID_AGRAVO</td>\n",
       "    </tr>\n",
       "    <tr>\n",
       "      <th>1</th>\n",
       "      <td>31-Data da Investigação</td>\n",
       "      <td>dt_investigacao</td>\n",
       "      <td>DATE</td>\n",
       "      <td>NaN</td>\n",
       "      <td>Informar a data da investigação</td>\n",
       "      <td>Campo obrigatório\\n- Não aceitar Data da\\ninve...</td>\n",
       "      <td>DT_INVEST</td>\n",
       "    </tr>\n",
       "    <tr>\n",
       "      <th>2</th>\n",
       "      <td>32- Ocupação/ramo de atividade econômica</td>\n",
       "      <td>co_cbo_ocupacao</td>\n",
       "      <td>VARCHAR(6)</td>\n",
       "      <td>NaN</td>\n",
       "      <td>Informar a atividade exercida pelo paciente no...</td>\n",
       "      <td>NaN</td>\n",
       "      <td>ID_OCUPA_N</td>\n",
       "    </tr>\n",
       "    <tr>\n",
       "      <th>3</th>\n",
       "      <td>33- Sinais clínicos (Febre)</td>\n",
       "      <td>NaN</td>\n",
       "      <td>VARCHAR(1)</td>\n",
       "      <td>1 – Sim\\n2 – Não</td>\n",
       "      <td>Informar qual sinal clínico ou achados\\nlabora...</td>\n",
       "      <td>Campo obrigatório</td>\n",
       "      <td>FEBRE</td>\n",
       "    </tr>\n",
       "    <tr>\n",
       "      <th>4</th>\n",
       "      <td>33- Sinais clínicos (Mialgia)</td>\n",
       "      <td>NaN</td>\n",
       "      <td>VARCHAR(1)</td>\n",
       "      <td>1 – Sim\\n2 – Não</td>\n",
       "      <td>Informar qual sinal clínico ou achados\\nlabora...</td>\n",
       "      <td>Campo obrigatório</td>\n",
       "      <td>MIALGIA</td>\n",
       "    </tr>\n",
       "    <tr>\n",
       "      <th>...</th>\n",
       "      <td>...</td>\n",
       "      <td>...</td>\n",
       "      <td>...</td>\n",
       "      <td>...</td>\n",
       "      <td>...</td>\n",
       "      <td>...</td>\n",
       "      <td>...</td>\n",
       "    </tr>\n",
       "    <tr>\n",
       "      <th>83</th>\n",
       "      <td>70- Dengue grave (Alteração da consciência)</td>\n",
       "      <td>NaN</td>\n",
       "      <td>VARCHAR(1)</td>\n",
       "      <td>1 – Sim\\n2 – Não</td>\n",
       "      <td>Informar qual sinal de gravidade foi\\nencontrado</td>\n",
       "      <td>Campo obrigatório\\nSe campo 62-\\nClassificação...</td>\n",
       "      <td>GRAV_CONSC</td>\n",
       "    </tr>\n",
       "    <tr>\n",
       "      <th>84</th>\n",
       "      <td>70- Dengue grave (Outros órgãos)</td>\n",
       "      <td>NaN</td>\n",
       "      <td>NaN</td>\n",
       "      <td>NaN</td>\n",
       "      <td>Informar qual sinal de gravidade foi\\nencontrado</td>\n",
       "      <td>Campo obrigatório\\nSe campo 62-\\nClassificação...</td>\n",
       "      <td>GRAV_ORGAO</td>\n",
       "    </tr>\n",
       "    <tr>\n",
       "      <th>85</th>\n",
       "      <td>71- Dengue grave Data de início dos sintomas</td>\n",
       "      <td>NaN</td>\n",
       "      <td>DATE</td>\n",
       "      <td>NaN</td>\n",
       "      <td>Informar data de início dos sinais de alarme.\\...</td>\n",
       "      <td>Campo obrigatório\\nSe campo 62-\\nClassificação...</td>\n",
       "      <td>DT_GRAV</td>\n",
       "    </tr>\n",
       "    <tr>\n",
       "      <th>86</th>\n",
       "      <td>Informações complementares e observações adici...</td>\n",
       "      <td>ds_observacao</td>\n",
       "      <td>VARCHAR(255)</td>\n",
       "      <td>NaN</td>\n",
       "      <td>Informações complementares e observações\\nadic...</td>\n",
       "      <td>Habilitado para todas\\nnotificações</td>\n",
       "      <td>DS_OBS</td>\n",
       "    </tr>\n",
       "    <tr>\n",
       "      <th>87</th>\n",
       "      <td>NaN</td>\n",
       "      <td>NaN</td>\n",
       "      <td>NaN</td>\n",
       "      <td>NaN</td>\n",
       "      <td>NaN</td>\n",
       "      <td>NaN</td>\n",
       "      <td>NaN</td>\n",
       "    </tr>\n",
       "  </tbody>\n",
       "</table>\n",
       "<p>88 rows × 7 columns</p>\n",
       "</div>"
      ],
      "text/plain": [
       "                                        Nome do campo            Campo  \\\n",
       "0                                     2-Agravo/doença              NaN   \n",
       "1                             31-Data da Investigação  dt_investigacao   \n",
       "2            32- Ocupação/ramo de atividade econômica  co_cbo_ocupacao   \n",
       "3                         33- Sinais clínicos (Febre)              NaN   \n",
       "4                       33- Sinais clínicos (Mialgia)              NaN   \n",
       "..                                                ...              ...   \n",
       "83        70- Dengue grave (Alteração da consciência)              NaN   \n",
       "84                   70- Dengue grave (Outros órgãos)              NaN   \n",
       "85       71- Dengue grave Data de início dos sintomas              NaN   \n",
       "86  Informações complementares e observações adici...    ds_observacao   \n",
       "87                                                NaN              NaN   \n",
       "\n",
       "            Tipo                Categoria  \\\n",
       "0     VARCHAR(1)  1-Dengue\\n2-Chikungunya   \n",
       "1           DATE                      NaN   \n",
       "2     VARCHAR(6)                      NaN   \n",
       "3     VARCHAR(1)         1 – Sim\\n2 – Não   \n",
       "4     VARCHAR(1)         1 – Sim\\n2 – Não   \n",
       "..           ...                      ...   \n",
       "83    VARCHAR(1)         1 – Sim\\n2 – Não   \n",
       "84           NaN                      NaN   \n",
       "85          DATE                      NaN   \n",
       "86  VARCHAR(255)                      NaN   \n",
       "87           NaN                      NaN   \n",
       "\n",
       "                                            Descrição  \\\n",
       "0                   Especifica a suspeição do agravo.   \n",
       "1                     Informar a data da investigação   \n",
       "2   Informar a atividade exercida pelo paciente no...   \n",
       "3   Informar qual sinal clínico ou achados\\nlabora...   \n",
       "4   Informar qual sinal clínico ou achados\\nlabora...   \n",
       "..                                                ...   \n",
       "83   Informar qual sinal de gravidade foi\\nencontrado   \n",
       "84   Informar qual sinal de gravidade foi\\nencontrado   \n",
       "85  Informar data de início dos sinais de alarme.\\...   \n",
       "86  Informações complementares e observações\\nadic...   \n",
       "87                                                NaN   \n",
       "\n",
       "                                      Características         DBF  \n",
       "0   Campo Obrigatório\\nPreenchendo o código,\\na de...   ID_AGRAVO  \n",
       "1   Campo obrigatório\\n- Não aceitar Data da\\ninve...   DT_INVEST  \n",
       "2                                                 NaN  ID_OCUPA_N  \n",
       "3                                   Campo obrigatório       FEBRE  \n",
       "4                                   Campo obrigatório     MIALGIA  \n",
       "..                                                ...         ...  \n",
       "83  Campo obrigatório\\nSe campo 62-\\nClassificação...  GRAV_CONSC  \n",
       "84  Campo obrigatório\\nSe campo 62-\\nClassificação...  GRAV_ORGAO  \n",
       "85  Campo obrigatório\\nSe campo 62-\\nClassificação...     DT_GRAV  \n",
       "86                Habilitado para todas\\nnotificações      DS_OBS  \n",
       "87                                                NaN         NaN  \n",
       "\n",
       "[88 rows x 7 columns]"
      ]
     },
     "execution_count": 8,
     "metadata": {},
     "output_type": "execute_result"
    }
   ],
   "source": [
    "from pysus.online_data import SINAN\n",
    "\n",
    "metadata = SINAN.metadata_df('DENG')\n",
    "metadata\n"
   ]
  },
  {
   "cell_type": "code",
   "execution_count": 9,
   "metadata": {},
   "outputs": [
    {
     "data": {
      "text/plain": [
       "{'ID_AGRAVO': '2-Agravo/doença',\n",
       " 'DT_INVEST': '31-Data da Investigação',\n",
       " 'ID_OCUPA_N': '32- Ocupação/ramo de atividade econômica',\n",
       " 'FEBRE': '33- Sinais clínicos (Febre)',\n",
       " 'MIALGIA': '33- Sinais clínicos (Mialgia)',\n",
       " 'CEFALEIA': '33- Sinais clínicos (Cefaleia)',\n",
       " 'EXANTEMA': '33- Sinais clínicos (Exantema)',\n",
       " 'VOMITO': '33- Sinais clínicos (Vômito)',\n",
       " 'NAUSEA': '33- Sinais clínicos (Náusea)',\n",
       " 'DOR_COSTAS': '33- Sinais clínicos (Dor nas costas)',\n",
       " 'CONJUNTVIT': '33- Sinais clínicos (Conjuntivite)',\n",
       " 'ARTRITE': '33- Sinais clínicos (Artrite)',\n",
       " 'ARTRALGIA': '33- Sinais clínicos (Artralgia intensa)',\n",
       " 'PETÉQUIA_N': '33- Sinais clínicos (Petéquias)',\n",
       " 'LEUCOPENIA': '33- Sinais clínicos (Leucopenia)',\n",
       " 'LACO': '33- Sinais clínicos (Prova do laço)',\n",
       " 'DOR_RETRO': '33- Sinais clínicos (Dor retroorbital)',\n",
       " 'DIABETES': '34- Doenças pré- existentes (Diabetes)',\n",
       " 'HEMATOLOG': '34- Doenças pré- existentes (Doenças hematológicas)',\n",
       " 'HEPATOPAT': '34- Doenças pré- existentes (Hepatopatias)',\n",
       " 'RENAL': '34- Doenças pré- existentes (Doença renal crônica)',\n",
       " 'HIPERTENSA': '34- Doenças pré- existentes (Hipertensão arterial)',\n",
       " 'ÁCIDO_PEPT': '34- Doenças pré- existentes (Doença ácido-péptica)',\n",
       " 'AUTO_IMUNE': '34- Doenças pré- existentes (Doenças auto-imunes)',\n",
       " 'DT_CHIK_S1': '35-Exame sorológico (IgM) Chikungunya Soro 1 Data da Coleta',\n",
       " 'DT_CHIK_S2': '36-Exame sorológico (IgM) Chikungunya Soro 2 Data da Coleta',\n",
       " 'DT_PRNT': '37-Exame PRNT Data da Coleta',\n",
       " 'RES_CHIKS1': '38-Exame sorológico (IgM) Chikungunya Soro 1 Resultado',\n",
       " 'RES_CHIKS2': '38-Exame sorológico (IgM) Chikungunya Soro 2 Resultado',\n",
       " 'RESUL_PRNT': '38-Exame PRNT Resultado',\n",
       " 'DT_SORO': '39-Exame sorológico (IgM) Dengue Data da Coleta',\n",
       " 'RESUL_SORO': '40-Exame sorológico (IgM) Dengue Resultado',\n",
       " 'DT_NS1': '41- Exame NS1 Data da Coleta',\n",
       " 'RESUL_NS1': '42- Exame NS1 Resultado',\n",
       " 'DT_VIRAL': '43-Isolamento Viral Data da Coleta',\n",
       " 'RESUL_VI_N': '43-Isolamento Viral Resultado',\n",
       " 'DT_PCR': '45-RT-PCR Data da Coleta',\n",
       " 'RESUL_PCR_': '46-RT-PCR Resultado',\n",
       " 'SOROTIPO': '47-Sorotipo',\n",
       " 'HISTOPA_N': '48-Histopatologia Resultado',\n",
       " 'IMUNOH_N': '49-Imunohistoquímica Resultado',\n",
       " 'HOSPITALIZ': '50-Ocorreu Hospitalização?',\n",
       " 'DT_INTERNA': '51-Data Da Internação',\n",
       " 'UF': '52-UF De Hospitalização',\n",
       " 'MUNICIPIO': '53-Municipio Do Hospital',\n",
       " 'HOSPITAL': '54-Nome Do Hospital',\n",
       " 'DDD_HOSP': '55-(DDD)',\n",
       " 'TEL_HOSP': '55-Telefone',\n",
       " 'TPAUTOCTO': '56-O caso é Autóctone de residência?',\n",
       " 'COUFINF': '57-UF (provável da fonte de infecção)',\n",
       " 'COPAISINF': '58-País (provável da fonte de infecção)',\n",
       " 'COMUNINF': '59-Município (provável da fonte de infecção)',\n",
       " 'CODISINF': '60-Distrito (provável de infecção)',\n",
       " 'CO_BAINF\\nNOBAIINF': '61-Bairro (provável de infecção)',\n",
       " 'CLASSI_FIN': '62-Classificação',\n",
       " 'CRITERIO': '63-Critério De Confirmação/Descarte',\n",
       " 'CLINIC_CHIK': '64- Apresentação clínica Chikungunya',\n",
       " 'EVOLUCAO': '65-Evolução Do Caso',\n",
       " 'DT_OBITO': '66-Data do Óbito',\n",
       " 'DT_ENCERRA': '67-Data Do Encerramento',\n",
       " 'ALRM_HIPOT': '68- Dengue com sinais de alarme (Hipotensão)',\n",
       " 'ALRM_PLAQ': '68- Dengue com sinais de alarme (Queda abrupta de plaquetas)',\n",
       " 'ALRM_VOM': '68- Dengue com sinais de alarme (Vômitos persistentes)',\n",
       " 'ALRM_ABDOM': '68- Dengue com sinais de alarme (Dor abdominal)',\n",
       " 'ALRM_LETAR': '68- Dengue com sinais de alarme (Letargia ou irritabilidade)',\n",
       " 'ALRM_SANG': '68- Dengue com sinais de alarme (Sangramento de mucosa/outras hemorragias)',\n",
       " 'ALRM_HEMAT': '68- Dengue com sinais de alarme (Aumento hematócrito)',\n",
       " 'ALRM_HEPAT': '68- Dengue com sinais de alarme (Hepatomegalia)',\n",
       " 'ALRM_LIQ': '68- Dengue com sinais de alarme (Acúmulo de líquidos)',\n",
       " 'DT_ALRM': '69- Dengue com sinais de alarme Data de início dos sintomas',\n",
       " 'GRAV_PULSO': '70- Dengue grave (Pulso débil ou indectável)',\n",
       " 'GRAV_CONV': '70- Dengue grave (PA convergente)',\n",
       " 'GRAV_ENCH': '70- Dengue grave (Tempo de enchimento capilar)',\n",
       " 'GRAV_INSUF': '70- Dengue grave (Acúmulo de líquidos com insuficiência respiratória)',\n",
       " 'GRAV_TAQUI': '70- Dengue grave (Taquicardia)',\n",
       " 'GRAV_EXTRE': '70- Dengue grave (Extremidade frias)',\n",
       " 'GRAV_HIPOT': '70- Dengue grave (Hipotensão arterial em fase tardia)',\n",
       " 'GRAV_HEMAT': '70- Dengue grave (Hematêmese)',\n",
       " 'GRAV_MELEN': '70- Dengue grave (Melena)',\n",
       " 'GRAV_METRO': '70- Dengue grave (Metrorragia volumosa)',\n",
       " 'GRAV_SANG': '70- Dengue grave (Sangramento do SNC)',\n",
       " 'GRAV_AST': '70- Dengue grave (AST/ALT >1 .000)',\n",
       " 'GRAV_MIOC': '70- Dengue grave (Miocardite)',\n",
       " 'GRAV_CONSC': '70- Dengue grave (Alteração da consciência)',\n",
       " 'GRAV_ORGAO': '70- Dengue grave (Outros órgãos)',\n",
       " 'DT_GRAV': '71- Dengue grave Data de início dos sintomas',\n",
       " 'DS_OBS': 'Informações complementares e observações adicionais',\n",
       " nan: nan}"
      ]
     },
     "execution_count": 9,
     "metadata": {},
     "output_type": "execute_result"
    }
   ],
   "source": [
    "dict(zip(metadata['DBF'], metadata['Nome do campo']))"
   ]
  }
 ],
 "metadata": {
  "kernelspec": {
   "display_name": ".venv",
   "language": "python",
   "name": "python3"
  },
  "language_info": {
   "codemirror_mode": {
    "name": "ipython",
    "version": 3
   },
   "file_extension": ".py",
   "mimetype": "text/x-python",
   "name": "python",
   "nbconvert_exporter": "python",
   "pygments_lexer": "ipython3",
   "version": "3.12.3"
  }
 },
 "nbformat": 4,
 "nbformat_minor": 2
}
